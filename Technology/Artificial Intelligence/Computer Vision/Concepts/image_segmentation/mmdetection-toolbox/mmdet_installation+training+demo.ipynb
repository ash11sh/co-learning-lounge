{
  "nbformat": 4,
  "nbformat_minor": 0,
  "metadata": {
    "colab": {
      "name": "mmdet_installation+training+demo.ipynb",
      "version": "0.3.2",
      "provenance": [],
      "collapsed_sections": [
        "S9xS53faZl4n",
        "9nC6mK__Z82S",
        "D6Fp6GCdaqJm",
        "AD-_L8v_alI-",
        "faVpHRaVd_hg",
        "3wgh_ckQgfhH",
        "kxfqNA3Ujt9L",
        "LOdulLM4kUnV",
        "R2YcLN7GObJZ"
      ],
      "toc_visible": true,
      "include_colab_link": true
    },
    "kernelspec": {
      "name": "python3",
      "display_name": "Python 3"
    },
    "accelerator": "GPU"
  },
  "cells": [
    {
      "cell_type": "markdown",
      "metadata": {
        "id": "view-in-github",
        "colab_type": "text"
      },
      "source": [
        "<a href=\"https://colab.research.google.com/github/ash11sh/co-learning-lounge/blob/master/Technology/Artificial%20Intelligence/Computer%20Vision/Concepts/image_segmentation/mmdetection-toolbox/mmdet_installation%2Btraining%2Bdemo.ipynb\" target=\"_parent\"><img src=\"https://colab.research.google.com/assets/colab-badge.svg\" alt=\"Open In Colab\"/></a>"
      ]
    },
    {
      "cell_type": "code",
      "metadata": {
        "id": "EglPCn-yVlzc",
        "colab_type": "code",
        "outputId": "afb2e522-d8ff-4507-eec7-17c2b0fd7446",
        "colab": {
          "base_uri": "https://localhost:8080/",
          "height": 102
        }
      },
      "source": [
        "!git clone https://github.com/open-mmlab/mmdetection.git\n",
        "\n"
      ],
      "execution_count": 0,
      "outputs": [
        {
          "output_type": "stream",
          "text": [
            "Cloning into 'mmdetection'...\n",
            "remote: Enumerating objects: 5095, done.\u001b[K\n",
            "remote: Total 5095 (delta 0), reused 0 (delta 0), pack-reused 5095\u001b[K\n",
            "Receiving objects: 100% (5095/5095), 4.95 MiB | 3.82 MiB/s, done.\n",
            "Resolving deltas: 100% (3414/3414), done.\n"
          ],
          "name": "stdout"
        }
      ]
    },
    {
      "cell_type": "code",
      "metadata": {
        "id": "cH1kQVPdVvpR",
        "colab_type": "code",
        "colab": {}
      },
      "source": [
        "cd mmdetection"
      ],
      "execution_count": 0,
      "outputs": []
    },
    {
      "cell_type": "markdown",
      "metadata": {
        "id": "S9xS53faZl4n",
        "colab_type": "text"
      },
      "source": [
        "## REQUIREMENTS"
      ]
    },
    {
      "cell_type": "code",
      "metadata": {
        "id": "b_c8Y2IhXZWH",
        "colab_type": "code",
        "colab": {}
      },
      "source": [
        "!pip install -q mmcv terminaltables\n",
        "!pip install mmcv>=0.2.10\n",
        "!pip install imagecorruptions\n"
      ],
      "execution_count": 0,
      "outputs": []
    },
    {
      "cell_type": "markdown",
      "metadata": {
        "id": "9nC6mK__Z82S",
        "colab_type": "text"
      },
      "source": [
        "## INSTALLING OPEN-MMLAB  // MMDETECTION"
      ]
    },
    {
      "cell_type": "code",
      "metadata": {
        "id": "x7ACV2HIV7-9",
        "colab_type": "code",
        "colab": {}
      },
      "source": [
        "!python setup.py develop"
      ],
      "execution_count": 0,
      "outputs": []
    },
    {
      "cell_type": "markdown",
      "metadata": {
        "id": "D6Fp6GCdaqJm",
        "colab_type": "text"
      },
      "source": [
        "## DEFINING MODEL CONFIGS"
      ]
    },
    {
      "cell_type": "code",
      "metadata": {
        "id": "Ra161DCXaWV4",
        "colab_type": "code",
        "colab": {}
      },
      "source": [
        "# You can add more model configs like below.\n",
        "MODELS_CONFIG = {\n",
        "    'mask_rcnn_r50_fpn_1x': {\n",
        "        'config_file': 'mmdetection/configs/mask_rcnn_r50_fpn_1x.py'\n",
        "    },\n",
        "    'cascade_mask_rcnn_r50_fpn_1x': {\n",
        "        'config_file': 'mmdetection/configs/cascade_mask_rcnn_r50_fpn_1x.py',\n",
        "    }\n",
        "}"
      ],
      "execution_count": 0,
      "outputs": []
    },
    {
      "cell_type": "markdown",
      "metadata": {
        "id": "AD-_L8v_alI-",
        "colab_type": "text"
      },
      "source": [
        "## YOUR SETTINGS"
      ]
    },
    {
      "cell_type": "code",
      "metadata": {
        "id": "q0HqA-aHafig",
        "colab_type": "code",
        "colab": {}
      },
      "source": [
        "\n",
        "\n",
        "# Pick the model you want to use\n",
        "# Select a model in `MODELS_CONFIG`.\n",
        "selected_model = 'cascade_mask_rcnn_r50_fpn_1x' # 'mask_rcnn_r50_fpn_1x'  \n",
        "\n",
        "# Total training epochs.\n",
        "total_epochs = 60\n",
        "\n",
        "# Name of the config file.\n",
        "config_file = MODELS_CONFIG[selected_model]['config_file']"
      ],
      "execution_count": 0,
      "outputs": []
    },
    {
      "cell_type": "code",
      "metadata": {
        "id": "evwjHGx6gA1X",
        "colab_type": "code",
        "outputId": "883dc878-59da-4d55-b711-065e00122a08",
        "colab": {
          "base_uri": "https://localhost:8080/",
          "height": 68
        }
      },
      "source": [
        "ls"
      ],
      "execution_count": 0,
      "outputs": [
        {
          "output_type": "stream",
          "text": [
            "'=0.2.10'   \u001b[0m\u001b[01;34mdemo\u001b[0m/     LICENSE           README.md          \u001b[01;34mtests\u001b[0m/\n",
            " \u001b[01;34mbuild\u001b[0m/     \u001b[01;34mdocker\u001b[0m/   \u001b[01;34mmmdet\u001b[0m/            requirements.txt   \u001b[01;34mtools\u001b[0m/\n",
            " \u001b[01;34mconfigs\u001b[0m/   \u001b[01;34mdocs\u001b[0m/     \u001b[01;34mmmdet.egg-info\u001b[0m/   setup.py\n"
          ],
          "name": "stdout"
        }
      ]
    },
    {
      "cell_type": "code",
      "metadata": {
        "id": "yyGExYHIkSoL",
        "colab_type": "code",
        "outputId": "32e4803f-2050-44a9-de81-a55306b84503",
        "colab": {
          "base_uri": "https://localhost:8080/",
          "height": 34
        }
      },
      "source": [
        "cd .."
      ],
      "execution_count": 0,
      "outputs": [
        {
          "output_type": "stream",
          "text": [
            "/content\n"
          ],
          "name": "stdout"
        }
      ]
    },
    {
      "cell_type": "markdown",
      "metadata": {
        "id": "faVpHRaVd_hg",
        "colab_type": "text"
      },
      "source": [
        "## MODIFY CONFIG FILE"
      ]
    },
    {
      "cell_type": "code",
      "metadata": {
        "id": "a7kSkLoWd-e1",
        "colab_type": "code",
        "outputId": "708a5fc2-55fd-443e-9aa4-78b475542d77",
        "colab": {
          "base_uri": "https://localhost:8080/",
          "height": 34
        }
      },
      "source": [
        "import os\n",
        "config_fname = os.path.join(config_file)\n",
        "\n",
        "assert os.path.isfile(config_fname), '`{}` not exist'.format(config_fname)\n",
        "config_fname"
      ],
      "execution_count": 0,
      "outputs": [
        {
          "output_type": "execute_result",
          "data": {
            "text/plain": [
              "'mmdetection/configs/cascade_mask_rcnn_r50_fpn_1x.py'"
            ]
          },
          "metadata": {
            "tags": []
          },
          "execution_count": 28
        }
      ]
    },
    {
      "cell_type": "code",
      "metadata": {
        "id": "NGLhjMqkkXFD",
        "colab_type": "code",
        "outputId": "7cccd416-1e7c-4753-90b6-e1247e4e84b9",
        "colab": {
          "base_uri": "https://localhost:8080/",
          "height": 34
        }
      },
      "source": [
        "cd mmdetection/"
      ],
      "execution_count": 0,
      "outputs": [
        {
          "output_type": "stream",
          "text": [
            "/content/mmdetection\n"
          ],
          "name": "stdout"
        }
      ]
    },
    {
      "cell_type": "markdown",
      "metadata": {
        "id": "3wgh_ckQgfhH",
        "colab_type": "text"
      },
      "source": [
        "## DATASET PREPARATION"
      ]
    },
    {
      "cell_type": "markdown",
      "metadata": {
        "id": "6qZOvbk6gl0j",
        "colab_type": "text"
      },
      "source": [
        "* Make directory named \"data/images\"\n",
        "* upload your images to the \"data/images\" folder \n",
        "* upload your annotation file (single json file) to the \"data\" folder"
      ]
    },
    {
      "cell_type": "code",
      "metadata": {
        "id": "kj5WOT92eVpi",
        "colab_type": "code",
        "colab": {}
      },
      "source": [
        "!mkdir data\n"
      ],
      "execution_count": 0,
      "outputs": []
    },
    {
      "cell_type": "code",
      "metadata": {
        "id": "rDigWVXbkdSP",
        "colab_type": "code",
        "colab": {}
      },
      "source": [
        "cp -r '/content/drive/My Drive/images'  '/content/mmdetection/data/'"
      ],
      "execution_count": 0,
      "outputs": []
    },
    {
      "cell_type": "code",
      "metadata": {
        "id": "LWCGMzAahD3j",
        "colab_type": "code",
        "outputId": "ace650d5-82ab-43ee-cb8c-2d2adde56517",
        "colab": {
          "base_uri": "https://localhost:8080/",
          "height": 51
        }
      },
      "source": [
        "import json\n",
        "annotation_path = os.path.join( \"data\", \"trainval.json\")\n",
        "json_file = open(annotation_path)\n",
        "coco = json.load(json_file)\n",
        "print(coco[\"categories\"])\n",
        "classes_names = [category[\"name\"] for category in coco[\"categories\"]]\n",
        "print(classes_names)"
      ],
      "execution_count": 0,
      "outputs": [
        {
          "output_type": "stream",
          "text": [
            "[{'supercategory': 'rabbit', 'id': 0, 'name': 'rabbit'}]\n",
            "['rabbit']\n"
          ],
          "name": "stdout"
        }
      ]
    },
    {
      "cell_type": "code",
      "metadata": {
        "id": "shUA6YPdlADa",
        "colab_type": "code",
        "outputId": "585c4898-b2de-4772-8b97-ad5f9903f334",
        "colab": {
          "base_uri": "https://localhost:8080/",
          "height": 34
        }
      },
      "source": [
        "cd .."
      ],
      "execution_count": 0,
      "outputs": [
        {
          "output_type": "stream",
          "text": [
            "/content\n"
          ],
          "name": "stdout"
        }
      ]
    },
    {
      "cell_type": "code",
      "metadata": {
        "id": "BxWPir8piMpO",
        "colab_type": "code",
        "colab": {}
      },
      "source": [
        "import re\n",
        "fname = config_fname\n",
        "with open(fname) as f:\n",
        "    s = f.read()\n",
        "    work_dir = re.findall(r\"work_dir = \\'(.*?)\\'\", s)[0]\n",
        "    # Update `num_classes` including `background` class.\n",
        "    s = re.sub('num_classes=.*?,',\n",
        "               'num_classes={},'.format(len(classes_names) + 1), s)\n",
        "    s = re.sub('total_epochs = \\d+',\n",
        "               'total_epochs = {} #'.format(total_epochs), s)\n",
        "    if \"CocoDataset\" in s:\n",
        "        s = re.sub(\"data_root = 'data/coco/'\",\n",
        "                   \"data_root = 'data/'\", s)\n",
        "        s = re.sub(\"annotations/instances_train2017.json\",\n",
        "                   \"trainval.json\", s)\n",
        "        s = re.sub(\"annotations/instances_val2017.json\",\n",
        "                   \"trainval.json\", s)\n",
        "        s = re.sub(\"annotations/instances_val2017.json\",\n",
        "                   \"trainval.json\", s)\n",
        "        s = re.sub(\"train2017\", \"images\", s)\n",
        "        s = re.sub(\"val2017\", \"images\", s)\n",
        "    else:\n",
        "        s = re.sub('img_prefix=.*?\\],',\n",
        "                   \"img_prefix=data_root + 'images',\".format(total_epochs), s)\n",
        "with open(fname, 'w') as f:\n",
        "    f.write(s)\n",
        "!cat {config_fname}"
      ],
      "execution_count": 0,
      "outputs": []
    },
    {
      "cell_type": "code",
      "metadata": {
        "id": "xYD49XbTmh21",
        "colab_type": "code",
        "outputId": "d3e463bd-2ac0-4d0a-9e8c-40da20970e43",
        "colab": {
          "base_uri": "https://localhost:8080/",
          "height": 34
        }
      },
      "source": [
        "cd mmdetection/"
      ],
      "execution_count": 0,
      "outputs": [
        {
          "output_type": "stream",
          "text": [
            "/content/mmdetection\n"
          ],
          "name": "stdout"
        }
      ]
    },
    {
      "cell_type": "code",
      "metadata": {
        "id": "OjiAorN6i1eM",
        "colab_type": "code",
        "colab": {}
      },
      "source": [
        "!python tools/train.py configs/cascade_mask_rcnn_r50_fpn_1x.py"
      ],
      "execution_count": 0,
      "outputs": []
    },
    {
      "cell_type": "markdown",
      "metadata": {
        "id": "kxfqNA3Ujt9L",
        "colab_type": "text"
      },
      "source": [
        "## VERIFY CHECKPOINT FILE EXISTS"
      ]
    },
    {
      "cell_type": "code",
      "metadata": {
        "id": "imwdhoHyi78f",
        "colab_type": "code",
        "outputId": "192aaebe-850f-464a-81f0-357ac66a197d",
        "colab": {
          "base_uri": "https://localhost:8080/",
          "height": 34
        }
      },
      "source": [
        "checkpoint_file = os.path.join(work_dir, \"epoch_47.pth\")\n",
        "assert os.path.isfile(\n",
        "    checkpoint_file), '`{}` not exist'.format(checkpoint_file)\n",
        "checkpoint_file = os.path.abspath(checkpoint_file)\n",
        "checkpoint_file"
      ],
      "execution_count": 0,
      "outputs": [
        {
          "output_type": "execute_result",
          "data": {
            "text/plain": [
              "'/content/mmdetection/work_dirs/cascade_mask_rcnn_r50_fpn_1x/epoch_47.pth'"
            ]
          },
          "metadata": {
            "tags": []
          },
          "execution_count": 36
        }
      ]
    },
    {
      "cell_type": "markdown",
      "metadata": {
        "id": "LOdulLM4kUnV",
        "colab_type": "text"
      },
      "source": [
        "## TEST IMAGE"
      ]
    },
    {
      "cell_type": "markdown",
      "metadata": {
        "id": "OI457gGikkPg",
        "colab_type": "text"
      },
      "source": [
        "TWEAK SCORE_THRESHOLD TO GET REQUIRED OUTPUT"
      ]
    },
    {
      "cell_type": "code",
      "metadata": {
        "id": "KPrWJm_SkECV",
        "colab_type": "code",
        "colab": {}
      },
      "source": [
        "import time\n",
        "import matplotlib\n",
        "import matplotlib.pylab as plt\n",
        "plt.rcParams[\"axes.grid\"] = False\n",
        "\n",
        "import mmcv\n",
        "from mmcv.runner import load_checkpoint\n",
        "import mmcv.visualization.image as mmcv_image\n",
        "# fix for colab\n",
        "\n",
        "\n",
        "def imshow(img, win_name='', wait_time=0): plt.figure(\n",
        "    figsize=(50, 50)); plt.imshow(img)\n",
        "\n",
        "\n",
        "mmcv_image.imshow = imshow\n",
        "from mmdet.models import build_detector\n",
        "from mmdet.apis import inference_detector, show_result, init_detector"
      ],
      "execution_count": 0,
      "outputs": []
    },
    {
      "cell_type": "code",
      "metadata": {
        "id": "ouaPLc3qGQG0",
        "colab_type": "code",
        "outputId": "ac9529c0-cf3d-4cc1-b2c8-e09444e87fb5",
        "colab": {
          "base_uri": "https://localhost:8080/",
          "height": 34
        }
      },
      "source": [
        "cd .."
      ],
      "execution_count": 0,
      "outputs": [
        {
          "output_type": "stream",
          "text": [
            "/content\n"
          ],
          "name": "stdout"
        }
      ]
    },
    {
      "cell_type": "code",
      "metadata": {
        "id": "MSdEYR-Alj7t",
        "colab_type": "code",
        "colab": {}
      },
      "source": [
        " score_thr = 0.9\n",
        "\n",
        "# build the model from a config file and a checkpoint file\n",
        "model = init_detector(config_fname, checkpoint_file)\n",
        "\n",
        "# test a single image and show the results\n",
        "img = '/content/images (2).jpeg'\n",
        "\n",
        "result = inference_detector(model, img)\n",
        "show_result(img, result, classes_names,\n",
        "            score_thr=score_thr, out_file=\"result.jpg\")"
      ],
      "execution_count": 0,
      "outputs": []
    },
    {
      "cell_type": "code",
      "metadata": {
        "id": "INar6KMDlobT",
        "colab_type": "code",
        "outputId": "25feb185-6702-4bfc-9291-960fe3ddc2eb",
        "colab": {
          "base_uri": "https://localhost:8080/",
          "height": 207
        }
      },
      "source": [
        "from IPython.display import Image\n",
        "Image(filename='result.jpg')"
      ],
      "execution_count": 0,
      "outputs": [
        {
          "output_type": "execute_result",
          "data": {
            "image/jpeg": "[encoded data removed]",
            "text/plain": [
              "<IPython.core.display.Image object>"
            ]
          },
          "metadata": {
            "tags": []
          },
          "execution_count": 44
        }
      ]
    },
    {
      "cell_type": "markdown",
      "metadata": {
        "colab_type": "text",
        "id": "R2YcLN7GObJZ"
      },
      "source": [
        "## Download checkpoint file."
      ]
    },
    {
      "cell_type": "markdown",
      "metadata": {
        "colab_type": "text",
        "id": "rMCrafjhN61s"
      },
      "source": [
        "### Option1 : upload the checkpoint file to your Google Drive\n",
        "Then download it from your Google Drive to local file system.\n",
        "\n",
        "During this step, you will be prompted to enter the token."
      ]
    },
    {
      "cell_type": "code",
      "metadata": {
        "id": "u-JR_9XTTNWl",
        "colab_type": "code",
        "outputId": "dca422f1-c1c2-4ca3-b6de-53206fcd137e",
        "colab": {
          "base_uri": "https://localhost:8080/",
          "height": 122
        }
      },
      "source": [
        "from google.colab import drive\n",
        "drive.mount('/content/drive')"
      ],
      "execution_count": 0,
      "outputs": [
        {
          "output_type": "stream",
          "text": [
            "Go to this URL in a browser: https://accounts.google.com/o/oauth2/auth?client_id=947318989803-6bn6qk8qdgf4n4g3pfee6491hc0brc4i.apps.googleusercontent.com&redirect_uri=urn%3Aietf%3Awg%3Aoauth%3A2.0%3Aoob&scope=email%20https%3A%2F%2Fwww.googleapis.com%2Fauth%2Fdocs.test%20https%3A%2F%2Fwww.googleapis.com%2Fauth%2Fdrive%20https%3A%2F%2Fwww.googleapis.com%2Fauth%2Fdrive.photos.readonly%20https%3A%2F%2Fwww.googleapis.com%2Fauth%2Fpeopleapi.readonly&response_type=code\n",
            "\n",
            "Enter your authorization code:\n",
            "··········\n",
            "Mounted at /content/drive\n"
          ],
          "name": "stdout"
        }
      ]
    },
    {
      "cell_type": "code",
      "metadata": {
        "colab_type": "code",
        "id": "eiRj6p4vN5iT",
        "colab": {}
      },
      "source": [
        "!cp {checkpoint_file} /content/drive"
      ],
      "execution_count": 0,
      "outputs": []
    },
    {
      "cell_type": "markdown",
      "metadata": {
        "colab_type": "text",
        "id": "bqC9kHuVOOw6"
      },
      "source": [
        "### Option2 :  Download the checkpoint file directly to your local file system\n",
        "This method may not be stable when downloading large files like the model checkpoint file. Try **option 1** instead if not working."
      ]
    },
    {
      "cell_type": "code",
      "metadata": {
        "colab_type": "code",
        "id": "AQ5RHYbTOVnN",
        "colab": {}
      },
      "source": [
        "from google.colab import files\n",
        "files.download(checkpoint_file)"
      ],
      "execution_count": 0,
      "outputs": []
    }
  ]
}